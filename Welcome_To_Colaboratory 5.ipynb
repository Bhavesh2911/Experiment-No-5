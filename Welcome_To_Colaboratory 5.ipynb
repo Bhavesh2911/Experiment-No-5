{
  "cells": [
    {
      "cell_type": "markdown",
      "source": [
        "Write a program to create,append and remove lists in python."
      ],
      "metadata": {
        "id": "8qlVTEWK14OQ"
      }
    },
    {
      "cell_type": "code",
      "source": [
        "#Using the append() method to append\n",
        "thislist = [\"redmi\", \"samsung\", \"oneplus\"]\n",
        "\n",
        "thislist.append(\"iphone\")\n",
        "\n",
        "print(thislist)\n",
        "\n",
        "#The remove() method removes the specified item.\n",
        "thislist = [\"samsung\", \"oneplus\", \"dell\", \"vivo\"]\n",
        "thislist.remove(\"dell\")\n",
        "print(thislist)\n",
        "\n",
        "#Remove Specified Index\n",
        "thislist = [\"samsung\", \"oneplus\", \"dell\", \"vivo\"]\n",
        "thislist.pop(2)\n",
        "print(thislist)\n",
        "\n",
        "#the pop() method removes the last item\n",
        "thislist = [\"redmi\", \"samsung\", \"oneplus\"]\n",
        "thislist.pop()\n",
        "print(thislist)\n",
        "\n",
        "#del keyword also removes the specified index\n",
        "thislist = [\"redmi\", \"samsung\", \"oneplus\"]\n",
        "del thislist[0]\n",
        "print(thislist)\n",
        "\n",
        "\n",
        "#Clear the list content:\n",
        "thislist = [\"samsung\", \"oneplus\", \"dell\", \"vivo\"]\n",
        "thislist.clear()\n",
        "print(thislist)"
      ],
      "metadata": {
        "id": "SVfh__sz12s_",
        "outputId": "c768dd98-495a-4188-cf57-873d1a1fe2ce",
        "colab": {
          "base_uri": "https://localhost:8080/"
        }
      },
      "execution_count": 20,
      "outputs": [
        {
          "output_type": "stream",
          "name": "stdout",
          "text": [
            "['redmi', 'samsung', 'oneplus', 'iphone']\n",
            "['samsung', 'oneplus', 'vivo']\n",
            "['samsung', 'oneplus', 'vivo']\n",
            "['redmi', 'samsung']\n",
            "['samsung', 'oneplus']\n",
            "[]\n"
          ]
        }
      ]
    }
  ],
  "metadata": {
    "colab": {
      "collapsed_sections": [],
      "name": "Welcome To Colaboratory",
      "toc_visible": true,
      "provenance": []
    },
    "kernelspec": {
      "display_name": "Python 3",
      "name": "python3"
    }
  },
  "nbformat": 4,
  "nbformat_minor": 0
}